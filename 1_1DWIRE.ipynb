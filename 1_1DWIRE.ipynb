{
 "cells": [
  {
   "cell_type": "markdown",
   "id": "86babaee",
   "metadata": {},
   "source": [
    "okay let us just do 1 wire for now. we gonna just write the matrices. so we will be having N + 1 points in the channel ie from 0 to N. Electrons are incident only from the left and not from the right. \n",
    "\n",
    "\n",
    "We see as we apply tight binding equantions. we get H as our tridiagonal sparse matrix. with epsilons on the main diagonal. and t's hopping parameters on off diags. Now as we apply OBC (OPEN BOUNDARY CONDITIONS) we see H really is a tridiagonal sparse matrix as we had in the TBM of 1 D wire. but now we have some extra terms like t exp(ika) this goes into self energies of the contacts . contact has f1 = 1 and f2= 0. f being the fermilevel. \n",
    "\n",
    "we will be using the following notations\n",
    "\n",
    "Sigma_1 , Sigma_2 for contacts , Sigma_0 for the dephasing contact. s for sources.  Gamma is anti hermitian part of Sigma. s s dagger =  Sigma (superscirpt in) / 2pi \n"
   ]
  },
  {
   "cell_type": "code",
   "execution_count": null,
   "id": "386df175",
   "metadata": {},
   "outputs": [
    {
     "name": "stdout",
     "output_type": "stream",
     "text": [
      "[[1.+0.j 0.+0.j 0.+0.j ... 0.+0.j 0.+0.j 0.+0.j]\n",
      " [0.+0.j 0.+0.j 0.+0.j ... 0.+0.j 0.+0.j 0.+0.j]\n",
      " [0.+0.j 0.+0.j 0.+0.j ... 0.+0.j 0.+0.j 0.+0.j]\n",
      " ...\n",
      " [0.+0.j 0.+0.j 0.+0.j ... 0.+0.j 0.+0.j 0.+0.j]\n",
      " [0.+0.j 0.+0.j 0.+0.j ... 0.+0.j 0.+0.j 0.+0.j]\n",
      " [0.+0.j 0.+0.j 0.+0.j ... 0.+0.j 0.+0.j 0.+0.j]]\n"
     ]
    }
   ],
   "source": [
    "import numpy as np\n",
    "import scipy.sparse as sp\n",
    "import matplotlib.pyplot as plt\n",
    "\n",
    "# Parameters\n",
    "N = 100                # Number of sites (0 to N)\n",
    "eps = 0.0              # Onsite energy\n",
    "t = 1.0                # Hopping parameter\n",
    "a = 1.0                # Lattice constant\n",
    "B = 1.0                # Amplitude of incoming wave\n",
    "t = 1.0      # Hopping\n",
    "v = 1.0      # Electron velocity (assumed constant)\n",
    "a = 1.0      # Lattice spacing\n",
    "hbar = 1.0   # Planck constant (natural units)\n",
    "\n",
    "# Use new velocity-based dispersion: hbar*v/a = -2t sin(ka)\n",
    "sin_ka = -hbar * v / (2 * t * a)\n",
    "\n",
    "if abs(sin_ka) <= 1:\n",
    "    ka = np.arcsin(sin_ka)\n",
    "else:\n",
    "    raise ValueError(\"Unphysical: sin(ka) outside valid range. Choose larger t or smaller v.\")\n",
    "\n",
    "\n",
    "# Construct Hamiltonian (tridiagonal)\n",
    "main_diag = eps * np.ones(N + 1)\n",
    "off_diag = t * np.ones(N)\n",
    "H = sp.diags([off_diag, main_diag, off_diag], offsets=[-1, 0, 1], format='csr')\n",
    "\n",
    "# Construct self-energy matrices\n",
    "Sigma1 = sp.lil_matrix((N+1, N+1), dtype=complex)\n",
    "Sigma2 = sp.lil_matrix((N+1, N+1), dtype=complex)\n",
    "\n",
    "Sigma1[0, 0] = t * np.exp(1j * ka)\n",
    "Sigma2[N, N] = t * np.exp(1j * ka)\n",
    "\n",
    "Sigma1 = Sigma1.tocsr()\n",
    "Sigma2 = Sigma2.tocsr()\n",
    "\n",
    "# Construct source vector s (column vector)\n",
    "s = np.zeros((N + 1, 1), dtype=complex)\n",
    "s[0, 0] = -2j * B * t * np.sin(ka)\n",
    "\n",
    "\n",
    "# Gamma matrices: Γ = i (Σ - Σ†)\n",
    "Gamma1 = 1j * (Sigma1 - Sigma1.getH())  # Sigma1† = Hermitian transpose\n",
    "Gamma2 = 1j * (Sigma2 - Sigma2.getH())\n",
    "\n",
    "# Fermilevels\n",
    "f1 = 1.0\n",
    "f2 = 0.0\n",
    "\n",
    "Sig_in = f1 * Gamma1 + f2 * Gamma2\n",
    "\n",
    "# Source vector s (already defined earlier)\n",
    "# s[0, 0] = -2j * B * t * np.sin(ka)\n",
    "\n",
    "# Compute Sig_in using s s† = Sigma_in / 2π ⇒ Sigma_in = 2π s s†\n",
    "Sig_in_from_s = 2 * np.pi * (s @ s.conj().T)\n",
    "print(Sig_in_from_s/(2*np.pi))"
   ]
  }
 ],
 "metadata": {
  "kernelspec": {
   "display_name": "sidNEGFenv",
   "language": "python",
   "name": "python3"
  },
  "language_info": {
   "codemirror_mode": {
    "name": "ipython",
    "version": 3
   },
   "file_extension": ".py",
   "mimetype": "text/x-python",
   "name": "python",
   "nbconvert_exporter": "python",
   "pygments_lexer": "ipython3",
   "version": "3.11.13"
  }
 },
 "nbformat": 4,
 "nbformat_minor": 5
}
